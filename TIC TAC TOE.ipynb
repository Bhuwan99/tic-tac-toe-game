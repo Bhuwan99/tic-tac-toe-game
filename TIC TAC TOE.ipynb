{
 "cells": [
  {
   "cell_type": "code",
   "execution_count": 1,
   "metadata": {},
   "outputs": [
    {
     "name": "stdout",
     "output_type": "stream",
     "text": [
      "Rules of the game are as follows:\n",
      "Player 1 is \"X\"\n",
      "Player 2 is \"O\"\n",
      "The numbers on the board represents the position which will be replaced by \"X\" or \"O\"\n",
      "Hit enter after entering the position in the box\n",
      "\n",
      "1|2|3\n",
      "4|5|6\n",
      "7|8|9\n",
      "\n",
      "\n",
      "Enter the positon of the board to be marked:5\n",
      "1|2|3\n",
      "4|X|6\n",
      "7|8|9\n",
      "\n",
      "\n",
      "Enter the positon of the board to be marked:2\n",
      "1|O|3\n",
      "4|X|6\n",
      "7|8|9\n",
      "\n",
      "\n",
      "Enter the positon of the board to be marked:7\n",
      "1|O|3\n",
      "4|X|6\n",
      "X|8|9\n",
      "\n",
      "\n",
      "Enter the positon of the board to be marked:3\n",
      "1|O|O\n",
      "4|X|6\n",
      "X|8|9\n",
      "\n",
      "\n",
      "Enter the positon of the board to be marked:1\n",
      "X|O|O\n",
      "4|X|6\n",
      "X|8|9\n",
      "\n",
      "\n",
      "Enter the positon of the board to be marked:4\n",
      "X|O|O\n",
      "O|X|6\n",
      "X|8|9\n",
      "\n",
      "\n",
      "Enter the positon of the board to be marked:9\n",
      "X|O|O\n",
      "O|X|6\n",
      "X|8|X\n",
      "player 1 is the Winner\n"
     ]
    }
   ],
   "source": [
    "list = [1,2,3,4,5,6,7,8,9]\n",
    "item_count = 0\n",
    "count = 0\n",
    "won = 0\n",
    "def insert_list():\n",
    "    global item_count\n",
    "    item_count+=1\n",
    "    position = input('\\n\\nEnter the positon of the board to be marked:')\n",
    "    index = int(position)\n",
    "    if(item_count%2!=0):\n",
    "        element = 'X'\n",
    "    else:\n",
    "        element = 'O'\n",
    "    list[index-1]=element\n",
    "    \n",
    "def display_list():\n",
    "    print(*list[0:3], sep='|')\n",
    "    print(*list[3:6], sep='|')\n",
    "    print(*list[6:9], sep='|')\n",
    "\n",
    "def result():\n",
    "    global won\n",
    "    if (list[0]==list[1]==list[2] or list[3]==list[4]==list[5] or list[6]==list[7]==list[8] or \n",
    "        list[0]==list[3]==list[6] or list[1]==list[4]==list[7] or list[2]==list[5]==list[8] or list[0]==list[4]==list[8] or\n",
    "        list[2]==list[4]==list[6]):\n",
    "        won = 1\n",
    "    else:\n",
    "        won = 0\n",
    "        \n",
    "print('Rules of the game are as follows:\\nPlayer 1 is \"X\"\\nPlayer 2 is \"O\"\\nThe numbers on the board represents the position which will be replaced by \"X\" or \"O\"\\nHit enter after entering the position in the box\\n')\n",
    "display_list()\n",
    "\n",
    "while count<9:\n",
    "    result()\n",
    "    if won == 1:\n",
    "        if item_count%2!=0:\n",
    "            print (\"player 1 is the Winner\")\n",
    "            break\n",
    "        else:\n",
    "            print(\"PLayer 2 is the winner\")\n",
    "            break\n",
    "    else:\n",
    "        insert_list()\n",
    "        display_list()\n",
    "        count+=1\n",
    "else:\n",
    "    print(\"Game Tied\")"
   ]
  },
  {
   "cell_type": "code",
   "execution_count": 2,
   "metadata": {},
   "outputs": [
    {
     "data": {
      "text/plain": [
       "'C:\\\\Users\\\\Bhuwan'"
      ]
     },
     "execution_count": 2,
     "metadata": {},
     "output_type": "execute_result"
    }
   ],
   "source": [
    "pwd"
   ]
  },
  {
   "cell_type": "code",
   "execution_count": null,
   "metadata": {},
   "outputs": [],
   "source": []
  },
  {
   "cell_type": "code",
   "execution_count": null,
   "metadata": {},
   "outputs": [],
   "source": []
  },
  {
   "cell_type": "code",
   "execution_count": null,
   "metadata": {},
   "outputs": [],
   "source": []
  }
 ],
 "metadata": {
  "kernelspec": {
   "display_name": "Python 3",
   "language": "python",
   "name": "python3"
  },
  "language_info": {
   "codemirror_mode": {
    "name": "ipython",
    "version": 3
   },
   "file_extension": ".py",
   "mimetype": "text/x-python",
   "name": "python",
   "nbconvert_exporter": "python",
   "pygments_lexer": "ipython3",
   "version": "3.7.3"
  }
 },
 "nbformat": 4,
 "nbformat_minor": 2
}
